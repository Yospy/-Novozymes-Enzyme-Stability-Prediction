{
 "cells": [
  {
   "cell_type": "code",
   "execution_count": 1,
   "id": "fac8358c",
   "metadata": {
    "_cell_guid": "b1076dfc-b9ad-4769-8c92-a6c4dae69d19",
    "_uuid": "8f2839f25d086af736a60e9eeb907d3b93b6e0e5",
    "execution": {
     "iopub.execute_input": "2022-09-29T15:09:29.968550Z",
     "iopub.status.busy": "2022-09-29T15:09:29.967757Z",
     "iopub.status.idle": "2022-09-29T15:09:31.160724Z",
     "shell.execute_reply": "2022-09-29T15:09:31.159389Z"
    },
    "papermill": {
     "duration": 1.206069,
     "end_time": "2022-09-29T15:09:31.163694",
     "exception": false,
     "start_time": "2022-09-29T15:09:29.957625",
     "status": "completed"
    },
    "tags": []
   },
   "outputs": [],
   "source": [
    "import pandas as pd\n",
    "from numpy import *\n",
    "import matplotlib.pyplot as plt\n",
    "from sklearn.model_selection import train_test_split\n",
    "from sklearn import feature_extraction\n",
    "import warnings\n",
    "warnings.simplefilter('ignore')"
   ]
  },
  {
   "cell_type": "code",
   "execution_count": 2,
   "id": "f47628ae",
   "metadata": {
    "execution": {
     "iopub.execute_input": "2022-09-29T15:09:31.180806Z",
     "iopub.status.busy": "2022-09-29T15:09:31.180365Z",
     "iopub.status.idle": "2022-09-29T15:09:31.611146Z",
     "shell.execute_reply": "2022-09-29T15:09:31.610081Z"
    },
    "papermill": {
     "duration": 0.441954,
     "end_time": "2022-09-29T15:09:31.613686",
     "exception": false,
     "start_time": "2022-09-29T15:09:31.171732",
     "status": "completed"
    },
    "tags": []
   },
   "outputs": [],
   "source": [
    "train = pd.read_csv('train-2.csv')\n",
    "test = pd.read_csv('test-3.csv')"
   ]
  },
  {
   "cell_type": "code",
   "execution_count": 3,
   "id": "55c0eb59",
   "metadata": {
    "execution": {
     "iopub.execute_input": "2022-09-29T15:09:31.630023Z",
     "iopub.status.busy": "2022-09-29T15:09:31.629470Z",
     "iopub.status.idle": "2022-09-29T15:09:31.635804Z",
     "shell.execute_reply": "2022-09-29T15:09:31.634721Z"
    },
    "papermill": {
     "duration": 0.018114,
     "end_time": "2022-09-29T15:09:31.639173",
     "exception": false,
     "start_time": "2022-09-29T15:09:31.621059",
     "status": "completed"
    },
    "tags": []
   },
   "outputs": [
    {
     "name": "stdout",
     "output_type": "stream",
     "text": [
      "There are 31390 rows and 5 columns\n",
      "There are 2413 rows and 4 columns\n"
     ]
    }
   ],
   "source": [
    "print(f\"There are {train.shape[0]} rows and {train.shape[1]} columns\")\n",
    "print(f\"There are {test.shape[0]} rows and {test.shape[1]} columns\")"
   ]
  },
  {
   "cell_type": "code",
   "execution_count": 4,
   "id": "400653d9",
   "metadata": {
    "execution": {
     "iopub.execute_input": "2022-09-29T15:09:31.656110Z",
     "iopub.status.busy": "2022-09-29T15:09:31.655683Z",
     "iopub.status.idle": "2022-09-29T15:09:31.677787Z",
     "shell.execute_reply": "2022-09-29T15:09:31.676917Z"
    },
    "papermill": {
     "duration": 0.032641,
     "end_time": "2022-09-29T15:09:31.679881",
     "exception": false,
     "start_time": "2022-09-29T15:09:31.647240",
     "status": "completed"
    },
    "tags": []
   },
   "outputs": [
    {
     "data": {
      "text/html": [
       "<div>\n",
       "<style scoped>\n",
       "    .dataframe tbody tr th:only-of-type {\n",
       "        vertical-align: middle;\n",
       "    }\n",
       "\n",
       "    .dataframe tbody tr th {\n",
       "        vertical-align: top;\n",
       "    }\n",
       "\n",
       "    .dataframe thead th {\n",
       "        text-align: right;\n",
       "    }\n",
       "</style>\n",
       "<table border=\"1\" class=\"dataframe\">\n",
       "  <thead>\n",
       "    <tr style=\"text-align: right;\">\n",
       "      <th></th>\n",
       "      <th>seq_id</th>\n",
       "      <th>protein_sequence</th>\n",
       "      <th>pH</th>\n",
       "      <th>data_source</th>\n",
       "      <th>tm</th>\n",
       "    </tr>\n",
       "  </thead>\n",
       "  <tbody>\n",
       "    <tr>\n",
       "      <th>0</th>\n",
       "      <td>0</td>\n",
       "      <td>AAAAKAAALALLGEAPEVVDIWLPAGWRQPFRVFRLERKGDGVLVG...</td>\n",
       "      <td>7.0</td>\n",
       "      <td>doi.org/10.1038/s41592-020-0801-4</td>\n",
       "      <td>75.7</td>\n",
       "    </tr>\n",
       "    <tr>\n",
       "      <th>1</th>\n",
       "      <td>1</td>\n",
       "      <td>AAADGEPLHNEEERAGAGQVGRSLPQESEEQRTGSRPRRRRDLGSR...</td>\n",
       "      <td>7.0</td>\n",
       "      <td>doi.org/10.1038/s41592-020-0801-4</td>\n",
       "      <td>50.5</td>\n",
       "    </tr>\n",
       "    <tr>\n",
       "      <th>2</th>\n",
       "      <td>2</td>\n",
       "      <td>AAAFSTPRATSYRILSSAGSGSTRADAPQVRRLHTTRDLLAKDYYA...</td>\n",
       "      <td>7.0</td>\n",
       "      <td>doi.org/10.1038/s41592-020-0801-4</td>\n",
       "      <td>40.5</td>\n",
       "    </tr>\n",
       "    <tr>\n",
       "      <th>3</th>\n",
       "      <td>3</td>\n",
       "      <td>AAASGLRTAIPAQPLRHLLQPAPRPCLRPFGLLSVRAGSARRSGLL...</td>\n",
       "      <td>7.0</td>\n",
       "      <td>doi.org/10.1038/s41592-020-0801-4</td>\n",
       "      <td>47.2</td>\n",
       "    </tr>\n",
       "    <tr>\n",
       "      <th>4</th>\n",
       "      <td>4</td>\n",
       "      <td>AAATKSGPRRQSQGASVRTFTPFYFLVEPVDTLSVRGSSVILNCSA...</td>\n",
       "      <td>7.0</td>\n",
       "      <td>doi.org/10.1038/s41592-020-0801-4</td>\n",
       "      <td>49.5</td>\n",
       "    </tr>\n",
       "  </tbody>\n",
       "</table>\n",
       "</div>"
      ],
      "text/plain": [
       "   seq_id                                   protein_sequence   pH  \\\n",
       "0       0  AAAAKAAALALLGEAPEVVDIWLPAGWRQPFRVFRLERKGDGVLVG...  7.0   \n",
       "1       1  AAADGEPLHNEEERAGAGQVGRSLPQESEEQRTGSRPRRRRDLGSR...  7.0   \n",
       "2       2  AAAFSTPRATSYRILSSAGSGSTRADAPQVRRLHTTRDLLAKDYYA...  7.0   \n",
       "3       3  AAASGLRTAIPAQPLRHLLQPAPRPCLRPFGLLSVRAGSARRSGLL...  7.0   \n",
       "4       4  AAATKSGPRRQSQGASVRTFTPFYFLVEPVDTLSVRGSSVILNCSA...  7.0   \n",
       "\n",
       "                         data_source    tm  \n",
       "0  doi.org/10.1038/s41592-020-0801-4  75.7  \n",
       "1  doi.org/10.1038/s41592-020-0801-4  50.5  \n",
       "2  doi.org/10.1038/s41592-020-0801-4  40.5  \n",
       "3  doi.org/10.1038/s41592-020-0801-4  47.2  \n",
       "4  doi.org/10.1038/s41592-020-0801-4  49.5  "
      ]
     },
     "execution_count": 4,
     "metadata": {},
     "output_type": "execute_result"
    }
   ],
   "source": [
    "train.head()"
   ]
  },
  {
   "cell_type": "code",
   "execution_count": 5,
   "id": "8a4de9be",
   "metadata": {
    "execution": {
     "iopub.execute_input": "2022-09-29T15:09:31.696619Z",
     "iopub.status.busy": "2022-09-29T15:09:31.695887Z",
     "iopub.status.idle": "2022-09-29T15:09:31.707795Z",
     "shell.execute_reply": "2022-09-29T15:09:31.706559Z"
    },
    "papermill": {
     "duration": 0.022935,
     "end_time": "2022-09-29T15:09:31.710200",
     "exception": false,
     "start_time": "2022-09-29T15:09:31.687265",
     "status": "completed"
    },
    "tags": []
   },
   "outputs": [
    {
     "data": {
      "text/html": [
       "<div>\n",
       "<style scoped>\n",
       "    .dataframe tbody tr th:only-of-type {\n",
       "        vertical-align: middle;\n",
       "    }\n",
       "\n",
       "    .dataframe tbody tr th {\n",
       "        vertical-align: top;\n",
       "    }\n",
       "\n",
       "    .dataframe thead th {\n",
       "        text-align: right;\n",
       "    }\n",
       "</style>\n",
       "<table border=\"1\" class=\"dataframe\">\n",
       "  <thead>\n",
       "    <tr style=\"text-align: right;\">\n",
       "      <th></th>\n",
       "      <th>seq_id</th>\n",
       "      <th>protein_sequence</th>\n",
       "      <th>pH</th>\n",
       "      <th>data_source</th>\n",
       "    </tr>\n",
       "  </thead>\n",
       "  <tbody>\n",
       "    <tr>\n",
       "      <th>0</th>\n",
       "      <td>31390</td>\n",
       "      <td>VPVNPEPDATSVENVAEKTGSGDSQSDPIKADLEVKGQSALPFDVD...</td>\n",
       "      <td>8</td>\n",
       "      <td>Novozymes</td>\n",
       "    </tr>\n",
       "    <tr>\n",
       "      <th>1</th>\n",
       "      <td>31391</td>\n",
       "      <td>VPVNPEPDATSVENVAKKTGSGDSQSDPIKADLEVKGQSALPFDVD...</td>\n",
       "      <td>8</td>\n",
       "      <td>Novozymes</td>\n",
       "    </tr>\n",
       "    <tr>\n",
       "      <th>2</th>\n",
       "      <td>31392</td>\n",
       "      <td>VPVNPEPDATSVENVAKTGSGDSQSDPIKADLEVKGQSALPFDVDC...</td>\n",
       "      <td>8</td>\n",
       "      <td>Novozymes</td>\n",
       "    </tr>\n",
       "    <tr>\n",
       "      <th>3</th>\n",
       "      <td>31393</td>\n",
       "      <td>VPVNPEPDATSVENVALCTGSGDSQSDPIKADLEVKGQSALPFDVD...</td>\n",
       "      <td>8</td>\n",
       "      <td>Novozymes</td>\n",
       "    </tr>\n",
       "    <tr>\n",
       "      <th>4</th>\n",
       "      <td>31394</td>\n",
       "      <td>VPVNPEPDATSVENVALFTGSGDSQSDPIKADLEVKGQSALPFDVD...</td>\n",
       "      <td>8</td>\n",
       "      <td>Novozymes</td>\n",
       "    </tr>\n",
       "  </tbody>\n",
       "</table>\n",
       "</div>"
      ],
      "text/plain": [
       "   seq_id                                   protein_sequence  pH data_source\n",
       "0   31390  VPVNPEPDATSVENVAEKTGSGDSQSDPIKADLEVKGQSALPFDVD...   8   Novozymes\n",
       "1   31391  VPVNPEPDATSVENVAKKTGSGDSQSDPIKADLEVKGQSALPFDVD...   8   Novozymes\n",
       "2   31392  VPVNPEPDATSVENVAKTGSGDSQSDPIKADLEVKGQSALPFDVDC...   8   Novozymes\n",
       "3   31393  VPVNPEPDATSVENVALCTGSGDSQSDPIKADLEVKGQSALPFDVD...   8   Novozymes\n",
       "4   31394  VPVNPEPDATSVENVALFTGSGDSQSDPIKADLEVKGQSALPFDVD...   8   Novozymes"
      ]
     },
     "execution_count": 5,
     "metadata": {},
     "output_type": "execute_result"
    }
   ],
   "source": [
    "test.head()"
   ]
  },
  {
   "cell_type": "code",
   "execution_count": 6,
   "id": "7ace504e",
   "metadata": {
    "execution": {
     "iopub.execute_input": "2022-09-29T15:09:31.727825Z",
     "iopub.status.busy": "2022-09-29T15:09:31.726637Z",
     "iopub.status.idle": "2022-09-29T15:09:31.763057Z",
     "shell.execute_reply": "2022-09-29T15:09:31.761725Z"
    },
    "papermill": {
     "duration": 0.04778,
     "end_time": "2022-09-29T15:09:31.765661",
     "exception": false,
     "start_time": "2022-09-29T15:09:31.717881",
     "status": "completed"
    },
    "tags": []
   },
   "outputs": [
    {
     "data": {
      "text/html": [
       "<div>\n",
       "<style scoped>\n",
       "    .dataframe tbody tr th:only-of-type {\n",
       "        vertical-align: middle;\n",
       "    }\n",
       "\n",
       "    .dataframe tbody tr th {\n",
       "        vertical-align: top;\n",
       "    }\n",
       "\n",
       "    .dataframe thead th {\n",
       "        text-align: right;\n",
       "    }\n",
       "</style>\n",
       "<table border=\"1\" class=\"dataframe\">\n",
       "  <thead>\n",
       "    <tr style=\"text-align: right;\">\n",
       "      <th></th>\n",
       "      <th>seq_id</th>\n",
       "      <th>pH</th>\n",
       "      <th>tm</th>\n",
       "    </tr>\n",
       "  </thead>\n",
       "  <tbody>\n",
       "    <tr>\n",
       "      <th>count</th>\n",
       "      <td>31390.000000</td>\n",
       "      <td>31104.000000</td>\n",
       "      <td>31390.000000</td>\n",
       "    </tr>\n",
       "    <tr>\n",
       "      <th>mean</th>\n",
       "      <td>15694.500000</td>\n",
       "      <td>6.892339</td>\n",
       "      <td>49.147337</td>\n",
       "    </tr>\n",
       "    <tr>\n",
       "      <th>std</th>\n",
       "      <td>9061.656811</td>\n",
       "      <td>1.612225</td>\n",
       "      <td>14.010089</td>\n",
       "    </tr>\n",
       "    <tr>\n",
       "      <th>min</th>\n",
       "      <td>0.000000</td>\n",
       "      <td>1.990000</td>\n",
       "      <td>-1.000000</td>\n",
       "    </tr>\n",
       "    <tr>\n",
       "      <th>25%</th>\n",
       "      <td>7847.250000</td>\n",
       "      <td>7.000000</td>\n",
       "      <td>42.100000</td>\n",
       "    </tr>\n",
       "    <tr>\n",
       "      <th>50%</th>\n",
       "      <td>15694.500000</td>\n",
       "      <td>7.000000</td>\n",
       "      <td>48.000000</td>\n",
       "    </tr>\n",
       "    <tr>\n",
       "      <th>75%</th>\n",
       "      <td>23541.750000</td>\n",
       "      <td>7.000000</td>\n",
       "      <td>53.800000</td>\n",
       "    </tr>\n",
       "    <tr>\n",
       "      <th>max</th>\n",
       "      <td>31389.000000</td>\n",
       "      <td>64.900000</td>\n",
       "      <td>130.000000</td>\n",
       "    </tr>\n",
       "  </tbody>\n",
       "</table>\n",
       "</div>"
      ],
      "text/plain": [
       "             seq_id            pH            tm\n",
       "count  31390.000000  31104.000000  31390.000000\n",
       "mean   15694.500000      6.892339     49.147337\n",
       "std     9061.656811      1.612225     14.010089\n",
       "min        0.000000      1.990000     -1.000000\n",
       "25%     7847.250000      7.000000     42.100000\n",
       "50%    15694.500000      7.000000     48.000000\n",
       "75%    23541.750000      7.000000     53.800000\n",
       "max    31389.000000     64.900000    130.000000"
      ]
     },
     "execution_count": 6,
     "metadata": {},
     "output_type": "execute_result"
    }
   ],
   "source": [
    "train.describe()"
   ]
  },
  {
   "cell_type": "code",
   "execution_count": 7,
   "id": "5603df2b",
   "metadata": {
    "execution": {
     "iopub.execute_input": "2022-09-29T15:09:31.783575Z",
     "iopub.status.busy": "2022-09-29T15:09:31.783161Z",
     "iopub.status.idle": "2022-09-29T15:09:31.806557Z",
     "shell.execute_reply": "2022-09-29T15:09:31.805188Z"
    },
    "papermill": {
     "duration": 0.035374,
     "end_time": "2022-09-29T15:09:31.808954",
     "exception": false,
     "start_time": "2022-09-29T15:09:31.773580",
     "status": "completed"
    },
    "tags": []
   },
   "outputs": [
    {
     "name": "stdout",
     "output_type": "stream",
     "text": [
      "<class 'pandas.core.frame.DataFrame'>\n",
      "RangeIndex: 31390 entries, 0 to 31389\n",
      "Data columns (total 5 columns):\n",
      " #   Column            Non-Null Count  Dtype  \n",
      "---  ------            --------------  -----  \n",
      " 0   seq_id            31390 non-null  int64  \n",
      " 1   protein_sequence  31390 non-null  object \n",
      " 2   pH                31104 non-null  float64\n",
      " 3   data_source       28043 non-null  object \n",
      " 4   tm                31390 non-null  float64\n",
      "dtypes: float64(2), int64(1), object(2)\n",
      "memory usage: 1.2+ MB\n"
     ]
    }
   ],
   "source": [
    "train.info()"
   ]
  },
  {
   "cell_type": "code",
   "execution_count": 8,
   "id": "6b060f74",
   "metadata": {
    "execution": {
     "iopub.execute_input": "2022-09-29T15:09:31.827642Z",
     "iopub.status.busy": "2022-09-29T15:09:31.827219Z",
     "iopub.status.idle": "2022-09-29T15:09:31.844466Z",
     "shell.execute_reply": "2022-09-29T15:09:31.843209Z"
    },
    "papermill": {
     "duration": 0.029089,
     "end_time": "2022-09-29T15:09:31.847045",
     "exception": false,
     "start_time": "2022-09-29T15:09:31.817956",
     "status": "completed"
    },
    "tags": []
   },
   "outputs": [
    {
     "data": {
      "text/plain": [
       "seq_id                 0\n",
       "protein_sequence       0\n",
       "pH                   286\n",
       "data_source         3347\n",
       "tm                     0\n",
       "dtype: int64"
      ]
     },
     "execution_count": 8,
     "metadata": {},
     "output_type": "execute_result"
    }
   ],
   "source": [
    "train.isnull().sum()"
   ]
  },
  {
   "cell_type": "code",
   "execution_count": 9,
   "id": "4f40d82c",
   "metadata": {
    "execution": {
     "iopub.execute_input": "2022-09-29T15:09:31.865985Z",
     "iopub.status.busy": "2022-09-29T15:09:31.865148Z",
     "iopub.status.idle": "2022-09-29T15:09:32.784965Z",
     "shell.execute_reply": "2022-09-29T15:09:32.783759Z"
    },
    "papermill": {
     "duration": 0.931527,
     "end_time": "2022-09-29T15:09:32.787324",
     "exception": false,
     "start_time": "2022-09-29T15:09:31.855797",
     "status": "completed"
    },
    "tags": []
   },
   "outputs": [
    {
     "data": {
      "text/plain": [
       "<AxesSubplot:ylabel='Density'>"
      ]
     },
     "execution_count": 9,
     "metadata": {},
     "output_type": "execute_result"
    },
    {
     "data": {
      "image/png": "[encoded data removed]",
      "text/plain": [
       "<Figure size 432x288 with 1 Axes>"
      ]
     },
     "metadata": {
      "needs_background": "light"
     },
     "output_type": "display_data"
    }
   ],
   "source": [
    "train.tm.plot(kind='density')"
   ]
  },
  {
   "cell_type": "code",
   "execution_count": 10,
   "id": "ea0e3bb7",
   "metadata": {
    "execution": {
     "iopub.execute_input": "2022-09-29T15:09:32.806359Z",
     "iopub.status.busy": "2022-09-29T15:09:32.805527Z",
     "iopub.status.idle": "2022-09-29T15:09:32.814590Z",
     "shell.execute_reply": "2022-09-29T15:09:32.813312Z"
    },
    "papermill": {
     "duration": 0.021091,
     "end_time": "2022-09-29T15:09:32.816972",
     "exception": false,
     "start_time": "2022-09-29T15:09:32.795881",
     "status": "completed"
    },
    "tags": []
   },
   "outputs": [
    {
     "name": "stdout",
     "output_type": "stream",
     "text": [
      "Maximum value of target 130.0\n",
      "Minimum value of target -1.0\n",
      "Median value of target 48.0\n"
     ]
    }
   ],
   "source": [
    "print(f\"Maximum value of target {train.tm.max()}\")\n",
    "print(f\"Minimum value of target {train.tm.min()}\")\n",
    "print(f\"Median value of target {train.tm.median()}\")"
   ]
  },
  {
   "cell_type": "code",
   "execution_count": 11,
   "id": "d171e479",
   "metadata": {
    "execution": {
     "iopub.execute_input": "2022-09-29T15:09:32.836119Z",
     "iopub.status.busy": "2022-09-29T15:09:32.835420Z",
     "iopub.status.idle": "2022-09-29T15:09:32.844056Z",
     "shell.execute_reply": "2022-09-29T15:09:32.842214Z"
    },
    "papermill": {
     "duration": 0.021122,
     "end_time": "2022-09-29T15:09:32.846436",
     "exception": false,
     "start_time": "2022-09-29T15:09:32.825314",
     "status": "completed"
    },
    "tags": []
   },
   "outputs": [
    {
     "name": "stdout",
     "output_type": "stream",
     "text": [
      "Maximum value of pH 64.9\n",
      "Minimum value of pH 1.99\n",
      "Median value of pH 7.0\n"
     ]
    }
   ],
   "source": [
    "print(f\"Maximum value of pH {train.pH.max()}\")\n",
    "print(f\"Minimum value of pH {train.pH.min()}\")\n",
    "print(f\"Median value of pH {train.pH.median()}\")"
   ]
  },
  {
   "cell_type": "code",
   "execution_count": 12,
   "id": "177f67ed",
   "metadata": {
    "execution": {
     "iopub.execute_input": "2022-09-29T15:09:32.865528Z",
     "iopub.status.busy": "2022-09-29T15:09:32.865099Z",
     "iopub.status.idle": "2022-09-29T15:09:32.871890Z",
     "shell.execute_reply": "2022-09-29T15:09:32.870787Z"
    },
    "papermill": {
     "duration": 0.018986,
     "end_time": "2022-09-29T15:09:32.874264",
     "exception": false,
     "start_time": "2022-09-29T15:09:32.855278",
     "status": "completed"
    },
    "tags": []
   },
   "outputs": [],
   "source": [
    "train.pH = train.pH.fillna(train.pH.mean())"
   ]
  },
  {
   "cell_type": "code",
   "execution_count": 13,
   "id": "25189f07",
   "metadata": {
    "execution": {
     "iopub.execute_input": "2022-09-29T15:09:32.892975Z",
     "iopub.status.busy": "2022-09-29T15:09:32.892543Z",
     "iopub.status.idle": "2022-09-29T15:09:32.906470Z",
     "shell.execute_reply": "2022-09-29T15:09:32.905547Z"
    },
    "papermill": {
     "duration": 0.025738,
     "end_time": "2022-09-29T15:09:32.908545",
     "exception": false,
     "start_time": "2022-09-29T15:09:32.882807",
     "status": "completed"
    },
    "tags": []
   },
   "outputs": [
    {
     "data": {
      "text/plain": [
       "seq_id                 0\n",
       "protein_sequence       0\n",
       "pH                     0\n",
       "data_source         3347\n",
       "tm                     0\n",
       "dtype: int64"
      ]
     },
     "execution_count": 13,
     "metadata": {},
     "output_type": "execute_result"
    }
   ],
   "source": [
    "train.isnull().sum()"
   ]
  },
  {
   "cell_type": "code",
   "execution_count": 14,
   "id": "a3a9aec9",
   "metadata": {
    "execution": {
     "iopub.execute_input": "2022-09-29T15:09:32.957089Z",
     "iopub.status.busy": "2022-09-29T15:09:32.956667Z",
     "iopub.status.idle": "2022-09-29T15:09:32.962938Z",
     "shell.execute_reply": "2022-09-29T15:09:32.961875Z"
    },
    "papermill": {
     "duration": 0.018411,
     "end_time": "2022-09-29T15:09:32.965101",
     "exception": false,
     "start_time": "2022-09-29T15:09:32.946690",
     "status": "completed"
    },
    "tags": []
   },
   "outputs": [
    {
     "name": "stderr",
     "output_type": "stream",
     "text": [
      "[nltk_data] Downloading package stopwords to\n",
      "[nltk_data]     /Users/yashwadgave/nltk_data...\n",
      "[nltk_data]   Package stopwords is already up-to-date!\n"
     ]
    },
    {
     "data": {
      "text/plain": [
       "True"
      ]
     },
     "execution_count": 14,
     "metadata": {},
     "output_type": "execute_result"
    }
   ],
   "source": [
    "import nltk\n",
    "from nltk.corpus import stopwords\n",
    "from nltk.stem.porter import PorterStemmer\n",
    "ps = PorterStemmer()\n",
    "import re\n",
    "nltk.download('stopwords')"
   ]
  },
  {
   "cell_type": "code",
   "execution_count": 15,
   "id": "11db7aed",
   "metadata": {},
   "outputs": [
    {
     "data": {
      "text/plain": [
       "31390"
      ]
     },
     "execution_count": 15,
     "metadata": {},
     "output_type": "execute_result"
    }
   ],
   "source": [
    "train.shape[0]"
   ]
  },
  {
   "cell_type": "code",
   "execution_count": 16,
   "id": "08225593",
   "metadata": {
    "execution": {
     "iopub.execute_input": "2022-09-29T15:09:32.984802Z",
     "iopub.status.busy": "2022-09-29T15:09:32.984134Z",
     "iopub.status.idle": "2022-09-29T15:09:32.988817Z",
     "shell.execute_reply": "2022-09-29T15:09:32.987915Z"
    },
    "papermill": {
     "duration": 0.017359,
     "end_time": "2022-09-29T15:09:32.991004",
     "exception": false,
     "start_time": "2022-09-29T15:09:32.973645",
     "status": "completed"
    },
    "tags": []
   },
   "outputs": [],
   "source": [
    "corpus = []\n",
    "for i in range(31390):\n",
    "    clean = re.sub('[^a-zA-Z]',' ',train['protein_sequence'][i])\n",
    "    clean = clean.lower()\n",
    "    clean = clean.split()\n",
    "    clean = [ps.stem(word) for word in clean if not word in stopwords.words('english')]\n",
    "    clean = ' '.join(clean)\n",
    "    corpus.append(clean)"
   ]
  },
  {
   "cell_type": "code",
   "execution_count": 17,
   "id": "d7320f51",
   "metadata": {},
   "outputs": [],
   "source": [
    "from sklearn.feature_extraction.text import CountVectorizer\n",
    "cv = CountVectorizer(ngram_range=(1,3), max_features=5000)\n",
    "X = cv.fit_transform(corpus).toarray()\n",
    "y = train[['tm']]"
   ]
  },
  {
   "cell_type": "code",
   "execution_count": 18,
   "id": "27bac088",
   "metadata": {},
   "outputs": [],
   "source": [
    "from sklearn.model_selection import train_test_split\n",
    "X_train, X_test, y_train, y_test = train_test_split(X,y,test_size=0.3,random_state=50)"
   ]
  },
  {
   "cell_type": "code",
   "execution_count": 19,
   "id": "81ec330e",
   "metadata": {
    "execution": {
     "iopub.execute_input": "2022-09-29T15:09:53.425715Z",
     "iopub.status.busy": "2022-09-29T15:09:53.424945Z",
     "iopub.status.idle": "2022-09-29T15:09:53.499747Z",
     "shell.execute_reply": "2022-09-29T15:09:53.498722Z"
    },
    "papermill": {
     "duration": 0.087453,
     "end_time": "2022-09-29T15:09:53.502499",
     "exception": false,
     "start_time": "2022-09-29T15:09:53.415046",
     "status": "completed"
    },
    "tags": []
   },
   "outputs": [],
   "source": [
    "from sklearn.linear_model import LinearRegression\n",
    "model = LinearRegression()"
   ]
  },
  {
   "cell_type": "code",
   "execution_count": 20,
   "id": "dfbb9e7e",
   "metadata": {
    "execution": {
     "iopub.execute_input": "2022-09-29T15:09:53.521942Z",
     "iopub.status.busy": "2022-09-29T15:09:53.520853Z",
     "iopub.status.idle": "2022-09-29T15:10:33.935425Z",
     "shell.execute_reply": "2022-09-29T15:10:33.934134Z"
    },
    "papermill": {
     "duration": 40.43981,
     "end_time": "2022-09-29T15:10:33.950967",
     "exception": false,
     "start_time": "2022-09-29T15:09:53.511157",
     "status": "completed"
    },
    "tags": []
   },
   "outputs": [
    {
     "data": {
      "text/plain": [
       "LinearRegression()"
      ]
     },
     "execution_count": 20,
     "metadata": {},
     "output_type": "execute_result"
    }
   ],
   "source": [
    "model.fit(X,y)"
   ]
  },
  {
   "cell_type": "code",
   "execution_count": 21,
   "id": "301331fa",
   "metadata": {},
   "outputs": [
    {
     "data": {
      "text/plain": [
       "array([[49.7475418],\n",
       "       [49.7475418],\n",
       "       [45.6      ],\n",
       "       ...,\n",
       "       [49.7475418],\n",
       "       [49.7475418],\n",
       "       [49.7475418]])"
      ]
     },
     "execution_count": 21,
     "metadata": {},
     "output_type": "execute_result"
    }
   ],
   "source": [
    "model.predict(X_test)"
   ]
  },
  {
   "cell_type": "code",
   "execution_count": 22,
   "id": "300d0ef1",
   "metadata": {
    "execution": {
     "iopub.execute_input": "2022-09-29T15:10:33.982074Z",
     "iopub.status.busy": "2022-09-29T15:10:33.981495Z",
     "iopub.status.idle": "2022-09-29T15:10:33.993044Z",
     "shell.execute_reply": "2022-09-29T15:10:33.991795Z"
    },
    "papermill": {
     "duration": 0.031307,
     "end_time": "2022-09-29T15:10:33.996633",
     "exception": false,
     "start_time": "2022-09-29T15:10:33.965326",
     "status": "completed"
    },
    "tags": []
   },
   "outputs": [],
   "source": [
    "test = test.drop(['pH','data_source'],1)"
   ]
  },
  {
   "cell_type": "code",
   "execution_count": 23,
   "id": "1866a7eb",
   "metadata": {
    "execution": {
     "iopub.execute_input": "2022-09-29T15:10:34.024181Z",
     "iopub.status.busy": "2022-09-29T15:10:34.023787Z",
     "iopub.status.idle": "2022-09-29T15:10:34.435623Z",
     "shell.execute_reply": "2022-09-29T15:10:34.434348Z"
    },
    "papermill": {
     "duration": 0.426578,
     "end_time": "2022-09-29T15:10:34.438207",
     "exception": false,
     "start_time": "2022-09-29T15:10:34.011629",
     "status": "completed"
    },
    "tags": []
   },
   "outputs": [],
   "source": [
    "test = cv.transform(test.protein_sequence.values.tolist())"
   ]
  },
  {
   "cell_type": "code",
   "execution_count": 24,
   "id": "4f7ed7d6",
   "metadata": {
    "execution": {
     "iopub.execute_input": "2022-09-29T15:10:34.457685Z",
     "iopub.status.busy": "2022-09-29T15:10:34.457280Z",
     "iopub.status.idle": "2022-09-29T15:10:34.463146Z",
     "shell.execute_reply": "2022-09-29T15:10:34.462119Z"
    },
    "papermill": {
     "duration": 0.01831,
     "end_time": "2022-09-29T15:10:34.465338",
     "exception": false,
     "start_time": "2022-09-29T15:10:34.447028",
     "status": "completed"
    },
    "tags": []
   },
   "outputs": [],
   "source": [
    "y_pred = model.predict(test)"
   ]
  },
  {
   "cell_type": "code",
   "execution_count": 25,
   "id": "04d28939",
   "metadata": {
    "execution": {
     "iopub.execute_input": "2022-09-29T15:10:34.484832Z",
     "iopub.status.busy": "2022-09-29T15:10:34.484382Z",
     "iopub.status.idle": "2022-09-29T15:10:34.502150Z",
     "shell.execute_reply": "2022-09-29T15:10:34.501071Z"
    },
    "papermill": {
     "duration": 0.030149,
     "end_time": "2022-09-29T15:10:34.504372",
     "exception": false,
     "start_time": "2022-09-29T15:10:34.474223",
     "status": "completed"
    },
    "tags": []
   },
   "outputs": [
    {
     "data": {
      "text/plain": [
       "array([[49.7475418],\n",
       "       [49.7475418],\n",
       "       [49.7475418],\n",
       "       ...,\n",
       "       [49.7475418],\n",
       "       [49.7475418],\n",
       "       [49.7475418]])"
      ]
     },
     "execution_count": 25,
     "metadata": {},
     "output_type": "execute_result"
    }
   ],
   "source": [
    "y_pred"
   ]
  },
  {
   "cell_type": "code",
   "execution_count": null,
   "id": "761dc0eb",
   "metadata": {
    "execution": {
     "iopub.execute_input": "2022-09-29T15:10:34.524285Z",
     "iopub.status.busy": "2022-09-29T15:10:34.523878Z",
     "iopub.status.idle": "2022-09-29T15:10:34.529446Z",
     "shell.execute_reply": "2022-09-29T15:10:34.528424Z"
    },
    "papermill": {
     "duration": 0.018063,
     "end_time": "2022-09-29T15:10:34.531616",
     "exception": false,
     "start_time": "2022-09-29T15:10:34.513553",
     "status": "completed"
    },
    "tags": []
   },
   "outputs": [],
   "source": []
  },
  {
   "cell_type": "code",
   "execution_count": null,
   "id": "9add9410",
   "metadata": {
    "execution": {
     "iopub.execute_input": "2022-09-29T15:10:34.551187Z",
     "iopub.status.busy": "2022-09-29T15:10:34.550783Z",
     "iopub.status.idle": "2022-09-29T15:10:34.556694Z",
     "shell.execute_reply": "2022-09-29T15:10:34.555641Z"
    },
    "papermill": {
     "duration": 0.018268,
     "end_time": "2022-09-29T15:10:34.558819",
     "exception": false,
     "start_time": "2022-09-29T15:10:34.540551",
     "status": "completed"
    },
    "tags": []
   },
   "outputs": [],
   "source": []
  },
  {
   "cell_type": "code",
   "execution_count": null,
   "id": "8bab8cdb",
   "metadata": {
    "execution": {
     "iopub.execute_input": "2022-09-29T15:10:34.578297Z",
     "iopub.status.busy": "2022-09-29T15:10:34.577898Z",
     "iopub.status.idle": "2022-09-29T15:10:34.590645Z",
     "shell.execute_reply": "2022-09-29T15:10:34.589605Z"
    },
    "papermill": {
     "duration": 0.025134,
     "end_time": "2022-09-29T15:10:34.592850",
     "exception": false,
     "start_time": "2022-09-29T15:10:34.567716",
     "status": "completed"
    },
    "tags": []
   },
   "outputs": [],
   "source": []
  },
  {
   "cell_type": "code",
   "execution_count": null,
   "id": "f3af217e",
   "metadata": {
    "execution": {
     "iopub.execute_input": "2022-09-29T15:10:34.612680Z",
     "iopub.status.busy": "2022-09-29T15:10:34.612287Z",
     "iopub.status.idle": "2022-09-29T15:10:34.625512Z",
     "shell.execute_reply": "2022-09-29T15:10:34.624390Z"
    },
    "papermill": {
     "duration": 0.025893,
     "end_time": "2022-09-29T15:10:34.627992",
     "exception": false,
     "start_time": "2022-09-29T15:10:34.602099",
     "status": "completed"
    },
    "tags": []
   },
   "outputs": [],
   "source": []
  },
  {
   "cell_type": "code",
   "execution_count": null,
   "id": "24c7ac65",
   "metadata": {
    "papermill": {
     "duration": 0.00867,
     "end_time": "2022-09-29T15:10:34.645613",
     "exception": false,
     "start_time": "2022-09-29T15:10:34.636943",
     "status": "completed"
    },
    "tags": []
   },
   "outputs": [],
   "source": []
  }
 ],
 "metadata": {
  "kernelspec": {
   "display_name": "Python 3",
   "language": "python",
   "name": "python3"
  },
  "language_info": {
   "codemirror_mode": {
    "name": "ipython",
    "version": 3
   },
   "file_extension": ".py",
   "mimetype": "text/x-python",
   "name": "python",
   "nbconvert_exporter": "python",
   "pygments_lexer": "ipython3",
   "version": "3.8.8"
  },
  "papermill": {
   "default_parameters": {},
   "duration": 74.761353,
   "end_time": "2022-09-29T15:10:35.376394",
   "environment_variables": {},
   "exception": null,
   "input_path": "__notebook__.ipynb",
   "output_path": "__notebook__.ipynb",
   "parameters": {},
   "start_time": "2022-09-29T15:09:20.615041",
   "version": "2.3.4"
  }
 },
 "nbformat": 4,
 "nbformat_minor": 5
}
